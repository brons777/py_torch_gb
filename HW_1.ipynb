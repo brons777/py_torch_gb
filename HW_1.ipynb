{
 "cells": [
  {
   "cell_type": "code",
   "execution_count": 109,
   "metadata": {
    "id": "_CNZn_3CofVO"
   },
   "outputs": [],
   "source": [
    "import torch\n",
    "import numpy"
   ]
  },
  {
   "cell_type": "code",
   "execution_count": 76,
   "metadata": {
    "id": "QGYTKAxeofVR"
   },
   "outputs": [],
   "source": [
    "# 1. Создайте случайный FloatTensor размера 3x4x5"
   ]
  },
  {
   "cell_type": "code",
   "execution_count": 77,
   "metadata": {},
   "outputs": [],
   "source": [
    "a = torch.randn(3, 4, 5)"
   ]
  },
  {
   "cell_type": "code",
   "execution_count": 78,
   "metadata": {
    "id": "7GV_q8DdofVV"
   },
   "outputs": [],
   "source": [
    "# 2. Выведите его форму (shape)"
   ]
  },
  {
   "cell_type": "code",
   "execution_count": 79,
   "metadata": {},
   "outputs": [
    {
     "data": {
      "text/plain": [
       "torch.Size([3, 4, 5])"
      ]
     },
     "execution_count": 79,
     "metadata": {},
     "output_type": "execute_result"
    }
   ],
   "source": [
    "a.shape"
   ]
  },
  {
   "cell_type": "code",
   "execution_count": 80,
   "metadata": {
    "id": "f1OTy65FofVX"
   },
   "outputs": [],
   "source": [
    "# 3. Приведите его к форме 6х10"
   ]
  },
  {
   "cell_type": "code",
   "execution_count": 81,
   "metadata": {},
   "outputs": [
    {
     "data": {
      "text/plain": [
       "tensor([[[ 1.0563,  0.3065,  1.0404,  0.1991, -0.6521, -1.6150, -1.0977,\n",
       "          -0.4588,  0.9947, -0.7426],\n",
       "         [ 0.1946,  0.0184, -0.5961, -0.4889,  0.4567,  1.2169,  0.5358,\n",
       "          -1.8144, -1.4891,  0.8291],\n",
       "         [ 1.6078, -1.8206, -1.5347, -0.6643,  1.8838, -0.6219, -0.3587,\n",
       "          -0.9436, -0.4747, -0.3646],\n",
       "         [-1.6405, -0.0581, -0.9468, -1.2619,  1.0120,  0.4874, -1.9295,\n",
       "          -1.4005,  0.1381, -0.0364],\n",
       "         [ 1.2792, -0.6936,  0.8332, -0.3165, -0.4536, -0.4149,  0.5895,\n",
       "          -1.1522,  2.5046,  2.3156],\n",
       "         [-1.1322,  0.2384,  0.5384, -0.2009, -1.1847,  0.7338,  0.8658,\n",
       "           0.0149, -0.7048, -0.2749]]])"
      ]
     },
     "execution_count": 81,
     "metadata": {},
     "output_type": "execute_result"
    }
   ],
   "source": [
    "a = a.reshape(-1, 6, 10)\n",
    "a"
   ]
  },
  {
   "cell_type": "code",
   "execution_count": 82,
   "metadata": {
    "id": "BEVOv9_TofVe"
   },
   "outputs": [],
   "source": [
    "# 4. Создайте случайный IntTensor размера 10"
   ]
  },
  {
   "cell_type": "code",
   "execution_count": 83,
   "metadata": {},
   "outputs": [
    {
     "data": {
      "text/plain": [
       "tensor([4, 4, 4, 9, 4, 5, 2, 5, 6, 1])"
      ]
     },
     "execution_count": 83,
     "metadata": {},
     "output_type": "execute_result"
    }
   ],
   "source": [
    "b = torch.randint(10, size=(10,))\n",
    "b"
   ]
  },
  {
   "cell_type": "code",
   "execution_count": 84,
   "metadata": {
    "id": "TAX3DUiSa07K"
   },
   "outputs": [],
   "source": [
    "# 5. Умножьте созданный FloatTensor на созданный IntTensor поэлементно"
   ]
  },
  {
   "cell_type": "code",
   "execution_count": 85,
   "metadata": {},
   "outputs": [
    {
     "data": {
      "text/plain": [
       "tensor([[[  4.2252,   1.2259,   4.1614,   1.7920,  -2.6085,  -8.0748,  -2.1954,\n",
       "           -2.2939,   5.9684,  -0.7426],\n",
       "         [  0.7783,   0.0734,  -2.3845,  -4.4003,   1.8270,   6.0846,   1.0715,\n",
       "           -9.0721,  -8.9347,   0.8291],\n",
       "         [  6.4310,  -7.2824,  -6.1388,  -5.9788,   7.5351,  -3.1095,  -0.7174,\n",
       "           -4.7181,  -2.8482,  -0.3646],\n",
       "         [ -6.5622,  -0.2324,  -3.7872, -11.3572,   4.0478,   2.4371,  -3.8591,\n",
       "           -7.0023,   0.8287,  -0.0364],\n",
       "         [  5.1169,  -2.7746,   3.3326,  -2.8483,  -1.8144,  -2.0744,   1.1790,\n",
       "           -5.7610,  15.0273,   2.3156],\n",
       "         [ -4.5286,   0.9538,   2.1537,  -1.8082,  -4.7387,   3.6692,   1.7316,\n",
       "            0.0743,  -4.2286,  -0.2749]]])"
      ]
     },
     "execution_count": 85,
     "metadata": {},
     "output_type": "execute_result"
    }
   ],
   "source": [
    "c = torch.mul(a, b)\n",
    "c"
   ]
  },
  {
   "cell_type": "code",
   "execution_count": 86,
   "metadata": {},
   "outputs": [
    {
     "data": {
      "text/plain": [
       "torch.Size([6, 10])"
      ]
     },
     "execution_count": 86,
     "metadata": {},
     "output_type": "execute_result"
    }
   ],
   "source": [
    "c = c.reshape(6, 10)\n",
    "c.size()"
   ]
  },
  {
   "cell_type": "code",
   "execution_count": 87,
   "metadata": {
    "id": "eUxdWlQZofVi"
   },
   "outputs": [],
   "source": [
    "# 6. Умножьте тензор матрично на себя, чтобы результат был размерности 6x6\n",
    "# Подсказка: .dot может не подойти"
   ]
  },
  {
   "cell_type": "code",
   "execution_count": 91,
   "metadata": {},
   "outputs": [
    {
     "data": {
      "text/plain": [
       "tensor([[ 158.1436, -103.8101,  -16.8931,  -64.8537,  147.0618,  -58.5159],\n",
       "        [-103.8101,  229.9867,  107.4437,  128.0610,  -86.3881,   51.7694],\n",
       "        [ -16.8931,  107.4437,  265.2885,  107.0231,   25.1518,  -75.0439],\n",
       "        [ -64.8536,  128.0610,  107.0231,  273.3821,   22.5528,   20.9396],\n",
       "        [ 147.0618,  -86.3881,   25.1518,   22.5528,  326.4573,  -75.0722],\n",
       "        [ -58.5159,   51.7694,  -75.0439,   20.9396,  -75.0722,   86.2053]])"
      ]
     },
     "execution_count": 91,
     "metadata": {},
     "output_type": "execute_result"
    }
   ],
   "source": [
    "d = torch.matmul(c, c.T)\n",
    "d"
   ]
  },
  {
   "cell_type": "code",
   "execution_count": null,
   "metadata": {
    "id": "u3V6CsNkofVj"
   },
   "outputs": [],
   "source": [
    "# 7. Посчитайте производную функции y = x**3 + z - 75t в точке (1, 0.5, 2)"
   ]
  },
  {
   "cell_type": "code",
   "execution_count": 100,
   "metadata": {},
   "outputs": [],
   "source": [
    "x = torch.tensor(1.0, requires_grad=True) \n",
    "z = torch.tensor(0.5, requires_grad=True) \n",
    "t = torch.tensor(2.0, requires_grad=True) "
   ]
  },
  {
   "cell_type": "code",
   "execution_count": 102,
   "metadata": {},
   "outputs": [],
   "source": [
    "y = x**3 + z - 75*t"
   ]
  },
  {
   "cell_type": "code",
   "execution_count": 103,
   "metadata": {},
   "outputs": [],
   "source": [
    "y.backward()"
   ]
  },
  {
   "cell_type": "code",
   "execution_count": 106,
   "metadata": {},
   "outputs": [
    {
     "data": {
      "text/plain": [
       "tensor(-71.)"
      ]
     },
     "execution_count": 106,
     "metadata": {},
     "output_type": "execute_result"
    }
   ],
   "source": [
    "x.grad + z.grad + t.grad"
   ]
  },
  {
   "cell_type": "code",
   "execution_count": null,
   "metadata": {
    "id": "FzH6QkyxofVm"
   },
   "outputs": [],
   "source": [
    "# 8. Создайте единичный тензор размера 5x6"
   ]
  },
  {
   "cell_type": "code",
   "execution_count": 111,
   "metadata": {},
   "outputs": [
    {
     "data": {
      "text/plain": [
       "tensor([[1., 1., 1., 1., 1., 1.],\n",
       "        [1., 1., 1., 1., 1., 1.],\n",
       "        [1., 1., 1., 1., 1., 1.],\n",
       "        [1., 1., 1., 1., 1., 1.],\n",
       "        [1., 1., 1., 1., 1., 1.]])"
      ]
     },
     "execution_count": 111,
     "metadata": {},
     "output_type": "execute_result"
    }
   ],
   "source": [
    "s = torch.ones(5, 6)\n",
    "s"
   ]
  },
  {
   "cell_type": "code",
   "execution_count": 112,
   "metadata": {
    "id": "z49ttvWPofVo"
   },
   "outputs": [],
   "source": [
    "# 9. Переведите его в формат numpy"
   ]
  },
  {
   "cell_type": "code",
   "execution_count": 117,
   "metadata": {},
   "outputs": [
    {
     "name": "stdout",
     "output_type": "stream",
     "text": [
      "Requirement already satisfied: numpy in c:\\users\\vol-wkst1084\\appdata\\local\\programs\\python\\python310\\lib\\site-packages (1.22.3)\n"
     ]
    },
    {
     "name": "stderr",
     "output_type": "stream",
     "text": [
      "WARNING: You are using pip version 22.0.4; however, version 22.2.2 is available.\n",
      "You should consider upgrading via the 'C:\\Users\\VOL-WKST1084\\AppData\\Local\\Programs\\Python\\Python310\\python.exe -m pip install --upgrade pip' command.\n"
     ]
    }
   ],
   "source": [
    "!pip install numpy"
   ]
  },
  {
   "cell_type": "code",
   "execution_count": 116,
   "metadata": {},
   "outputs": [
    {
     "ename": "RuntimeError",
     "evalue": "Numpy is not available",
     "output_type": "error",
     "traceback": [
      "\u001b[1;31m---------------------------------------------------------------------------\u001b[0m",
      "\u001b[1;31mRuntimeError\u001b[0m                              Traceback (most recent call last)",
      "Input \u001b[1;32mIn [116]\u001b[0m, in \u001b[0;36m<cell line: 1>\u001b[1;34m()\u001b[0m\n\u001b[1;32m----> 1\u001b[0m \u001b[43ms\u001b[49m\u001b[38;5;241;43m.\u001b[39;49m\u001b[43mnumpy\u001b[49m\u001b[43m(\u001b[49m\u001b[43m)\u001b[49m\n",
      "\u001b[1;31mRuntimeError\u001b[0m: Numpy is not available"
     ]
    }
   ],
   "source": [
    "s.numpy()"
   ]
  },
  {
   "cell_type": "code",
   "execution_count": null,
   "metadata": {},
   "outputs": [],
   "source": []
  }
 ],
 "metadata": {
  "colab": {
   "collapsed_sections": [],
   "name": "HW_1.ipynb",
   "provenance": []
  },
  "kernelspec": {
   "display_name": "Python 3 (ipykernel)",
   "language": "python",
   "name": "python3"
  },
  "language_info": {
   "codemirror_mode": {
    "name": "ipython",
    "version": 3
   },
   "file_extension": ".py",
   "mimetype": "text/x-python",
   "name": "python",
   "nbconvert_exporter": "python",
   "pygments_lexer": "ipython3",
   "version": "3.10.4"
  }
 },
 "nbformat": 4,
 "nbformat_minor": 1
}
